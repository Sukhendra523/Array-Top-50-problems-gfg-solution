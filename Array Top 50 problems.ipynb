{
 "cells": [
  {
   "cell_type": "markdown",
   "metadata": {
    "slideshow": {
     "slide_type": "-"
    }
   },
   "source": [
    "<h1 style=\"text-align:center;font-weight:900;\"> Top 50 Array Coding Problems for Interviews</h1>\n",
    "\n",
    "<h1 style=\"color:blue;width:100%;text-align:center;font-weight:900;\">Level 1</h1>\n"
   ]
  },
  {
   "cell_type": "markdown",
   "metadata": {
    "slideshow": {
     "slide_type": "-"
    }
   },
   "source": [
    "# 1. Peak Element\n",
    "> 1. A peak element in an array is the one that is not smaller than its neighbours.\n",
    " Given an array arr[] of size N, find the index of any one of its peak elements.\n"
   ]
  },
  {
   "cell_type": "code",
   "execution_count": 1,
   "metadata": {
    "slideshow": {
     "slide_type": "-"
    }
   },
   "outputs": [
    {
     "data": {
      "text/plain": [
       "4"
      ]
     },
     "execution_count": 1,
     "metadata": {},
     "output_type": "execute_result"
    }
   ],
   "source": [
    "# function should return index to the any valid peak element\n",
    "class Solution:\n",
    "    def peakElement(self, arr, n):\n",
    "        if n == 1:\n",
    "            return 0\n",
    "        \n",
    "        for i in range(n):\n",
    "            if i == 0 and arr[i] > arr[i+1]:\n",
    "                return i\n",
    "            elif i == (n - 1) and arr[i] > arr[i-1]:\n",
    "                return i\n",
    "            elif arr[i] > arr[i-1] and arr[i] > arr[i+1]:\n",
    "                return i\n",
    "obj=Solution()\n",
    "arr=[5 ,6 ,9 ,10 ,20 ,15]\n",
    "obj.peakElement(arr,len(arr))"
   ]
  },
  {
   "cell_type": "markdown",
   "metadata": {
    "slideshow": {
     "slide_type": "slide"
    }
   },
   "source": [
    "# 2. Find the minimum and maximum elements in the array."
   ]
  },
  {
   "cell_type": "code",
   "execution_count": 2,
   "metadata": {},
   "outputs": [
    {
     "data": {
      "text/plain": [
       "(10000, 1)"
      ]
     },
     "execution_count": 2,
     "metadata": {},
     "output_type": "execute_result"
    }
   ],
   "source": [
    "def getMinMax(a):\n",
    "    sortArr=sorted(a)\n",
    "    return sortArr[-1],sortArr[0]\n",
    "\n",
    "a=[3, 2, 1, 56, 10000, 167]\n",
    "getMinMax(a)"
   ]
  },
  {
   "cell_type": "code",
   "execution_count": 1,
   "metadata": {},
   "outputs": [
    {
     "data": {
      "text/plain": [
       "(10000, 1)"
      ]
     },
     "execution_count": 1,
     "metadata": {},
     "output_type": "execute_result"
    }
   ],
   "source": [
    "def getMinMax(a):\n",
    "    return max(a),min(a)\n",
    "\n",
    "a=[3, 2, 1, 56, 10000, 167]\n",
    "getMinMax(a)"
   ]
  },
  {
   "cell_type": "code",
   "execution_count": 7,
   "metadata": {},
   "outputs": [
    {
     "data": {
      "text/plain": [
       "(10000, 1)"
      ]
     },
     "execution_count": 7,
     "metadata": {},
     "output_type": "execute_result"
    }
   ],
   "source": [
    "def getMinMax( a):\n",
    "    if a[0]<a[1]:\n",
    "        Min=a[0]\n",
    "        Max=a[1]\n",
    "    else:\n",
    "        Min=a[1]\n",
    "        Max=a[0]\n",
    "    \n",
    "    for i in range(2,len(a)):\n",
    "        if a[i]>Max:\n",
    "            Max=a[i]\n",
    "        if a[i]<Min:\n",
    "            Min=a[i]\n",
    "    return Max,Min\n",
    "\n",
    "\n",
    "a=[3, 2, 1, 56, 10000, 167]\n",
    "getMinMax(a)"
   ]
  },
  {
   "cell_type": "markdown",
   "metadata": {},
   "source": [
    "# 3. Rverse the array"
   ]
  },
  {
   "cell_type": "code",
   "execution_count": 1,
   "metadata": {},
   "outputs": [
    {
     "data": {
      "text/plain": [
       "'keeG'"
      ]
     },
     "execution_count": 1,
     "metadata": {},
     "output_type": "execute_result"
    }
   ],
   "source": [
    "def reverseWord(s):\n",
    "    #your code here\n",
    "    return s[::-1]\n",
    "reverseWord(\"Geek\")"
   ]
  },
  {
   "cell_type": "markdown",
   "metadata": {},
   "source": [
    "# 4. Sort the given array"
   ]
  },
  {
   "cell_type": "code",
   "execution_count": 2,
   "metadata": {},
   "outputs": [
    {
     "data": {
      "text/plain": [
       "[1, 2, 3, 56, 167, 10000]"
      ]
     },
     "execution_count": 2,
     "metadata": {},
     "output_type": "execute_result"
    }
   ],
   "source": [
    "def sortArr(arr): \n",
    "        #code here\n",
    "        return sorted(arr)\n",
    "\n",
    "a=[3, 2, 1, 56, 10000, 167] \n",
    "sortArr(a)"
   ]
  },
  {
   "cell_type": "markdown",
   "metadata": {},
   "source": [
    "# 5. Kth largest and Kth smallest number in an array"
   ]
  },
  {
   "cell_type": "code",
   "execution_count": 9,
   "metadata": {},
   "outputs": [
    {
     "data": {
      "text/plain": [
       "(7, 10)"
      ]
     },
     "execution_count": 9,
     "metadata": {},
     "output_type": "execute_result"
    }
   ],
   "source": [
    "# if no duplicate element\n",
    "def kthLargestSmallest(arr, k):\n",
    "    '''\n",
    "    k : find kth smallest element and return using this function\n",
    "    ''' \n",
    "    sortArr=sorted(arr)\n",
    "    return sortArr[k-1],sortArr[-k]\n",
    "\n",
    "arr=[7 ,10 ,4 ,3 ,20 ,15]\n",
    "kthLargestSmallest(arr,3)"
   ]
  },
  {
   "cell_type": "code",
   "execution_count": 10,
   "metadata": {},
   "outputs": [
    {
     "data": {
      "text/plain": [
       "(7, 10)"
      ]
     },
     "execution_count": 10,
     "metadata": {},
     "output_type": "execute_result"
    }
   ],
   "source": [
    "def kthLargestSmallest(arr,k):\n",
    "    '''\n",
    "    k : find kth smallest element and return using this function\n",
    "    ''' \n",
    "    sortArr=sorted(set(arr))\n",
    "    return sortArr[k-1],sortArr[-k]\n",
    "\n",
    "arr=[7 ,10 ,4 ,3 ,20 ,15]\n",
    "kthLargestSmallest(arr,3)"
   ]
  },
  {
   "cell_type": "code",
   "execution_count": 17,
   "metadata": {},
   "outputs": [
    {
     "data": {
      "text/plain": [
       "(7, 10)"
      ]
     },
     "execution_count": 17,
     "metadata": {},
     "output_type": "execute_result"
    }
   ],
   "source": [
    "def kthLargestSmallest(arr, k):\n",
    "    \n",
    "    for i in range(k-1):\n",
    "        m=min(arr)\n",
    "        M=max(arr)\n",
    "            \n",
    "        while min(arr)==m:\n",
    "            arr.remove(min(arr))\n",
    "        while max(arr)==M:\n",
    "            arr.remove(max(arr))\n",
    "                \n",
    "    return min(arr),max(arr)\n",
    "\n",
    "\n",
    "arr=[7 ,10 ,4 ,3 ,20 ,15]\n",
    "kthLargestSmallest(arr,3)"
   ]
  },
  {
   "cell_type": "markdown",
   "metadata": {},
   "source": [
    "# 6. Frequency of an integer in the array"
   ]
  },
  {
   "cell_type": "code",
   "execution_count": 18,
   "metadata": {},
   "outputs": [
    {
     "data": {
      "text/plain": [
       "4"
      ]
     },
     "execution_count": 18,
     "metadata": {},
     "output_type": "execute_result"
    }
   ],
   "source": [
    "def findFrequency(arr, x):\n",
    "    # Your Code Here\n",
    "    return arr.count(x)\n",
    "arr=[7 ,10 ,4 ,3 ,3,5,3,3,20 ,15]\n",
    "findFrequency(arr,3)"
   ]
  },
  {
   "cell_type": "code",
   "execution_count": 20,
   "metadata": {},
   "outputs": [
    {
     "data": {
      "text/plain": [
       "4"
      ]
     },
     "execution_count": 20,
     "metadata": {},
     "output_type": "execute_result"
    }
   ],
   "source": [
    "def findFrequency(arr, x):\n",
    "    # Your Code Here\n",
    "    c=0\n",
    "    for i in arr:\n",
    "        if i==x:\n",
    "            c+=1\n",
    "    return c\n",
    "arr=[7 ,10 ,4 ,3 ,3,5,3,3,20 ,15]\n",
    "findFrequency(arr,3)"
   ]
  },
  {
   "cell_type": "code",
   "execution_count": 19,
   "metadata": {},
   "outputs": [
    {
     "data": {
      "text/plain": [
       "4"
      ]
     },
     "execution_count": 19,
     "metadata": {},
     "output_type": "execute_result"
    }
   ],
   "source": [
    "from collections import Counter\n",
    "def findFrequency(arr, x):\n",
    "    # Your Code Here\n",
    "    d=Counter(arr)\n",
    "    return d[x]\n",
    "arr=[7 ,10 ,4 ,3 ,3,5,3,3,20 ,15]\n",
    "findFrequency(arr,3)"
   ]
  },
  {
   "cell_type": "markdown",
   "metadata": {},
   "source": [
    "# 7. Sort the array of 0s, 1s, and 2s"
   ]
  },
  {
   "cell_type": "code",
   "execution_count": 4,
   "metadata": {},
   "outputs": [
    {
     "name": "stdout",
     "output_type": "stream",
     "text": [
      "[0, 0, 1, 2, 2]\n"
     ]
    }
   ],
   "source": [
    "# T=0(n)\n",
    "def sort012(a):\n",
    "    l=0\n",
    "    m=0\n",
    "    h=len(a)-1\n",
    "    while(m<h):\n",
    "        if a[m]==0:\n",
    "            a[l],a[m]=a[m],a[l]\n",
    "            l+=1\n",
    "            m+=1\n",
    "        if a[m]==1:\n",
    "            m+=1\n",
    "        if a[m]==2:\n",
    "            a[m],a[h]=a[h],a[m]\n",
    "            h-=1\n",
    "arr=[0,2,1,2,0]\n",
    "sort012(arr)\n",
    "print(arr)"
   ]
  },
  {
   "cell_type": "code",
   "execution_count": 3,
   "metadata": {},
   "outputs": [
    {
     "name": "stdout",
     "output_type": "stream",
     "text": [
      "[0, 0, 1, 2, 2]\n"
     ]
    }
   ],
   "source": [
    "# T=0(n logn)\n",
    "def sort012(arr):\n",
    "        # code here\n",
    "        arr.sort()\n",
    "arr=[0,2,1,2,0]\n",
    "sort012(arr)\n",
    "print(arr)"
   ]
  },
  {
   "cell_type": "markdown",
   "metadata": {},
   "source": [
    "# 8. Subarray with given Sum"
   ]
  },
  {
   "cell_type": "code",
   "execution_count": 11,
   "metadata": {
    "scrolled": true
   },
   "outputs": [
    {
     "data": {
      "text/plain": [
       "[2, 4, 8, 9]"
      ]
     },
     "execution_count": 11,
     "metadata": {},
     "output_type": "execute_result"
    }
   ],
   "source": [
    "\n",
    "def subArraySum(a,k):\n",
    "    n=len(a)\n",
    "    currSum = a[0]\n",
    "    start = 0\n",
    "    i = 1\n",
    "    while i <= n:\n",
    "        \n",
    "        # If curr_sum exceeds the sum, then remove the starting elements\n",
    "        while currSum > k and start < i-1:\n",
    "            currSum -= a[start]\n",
    "            start += 1\n",
    "\n",
    "        if currSum == k:\n",
    "            return a[start:i]\n",
    "\n",
    "        if i < n:\n",
    "            currSum +=a[i]\n",
    "        i += 1\n",
    " \n",
    "    # If we reach here,\n",
    "    # then no subarray\n",
    "    print (\"No subarray found\")\n",
    " \n",
    "# Driver program\n",
    "arr = [15, 2, 4, 8, 9, 5, 10, 23]\n",
    "givenSum=23\n",
    "subArraySum(arr,givenSum)"
   ]
  },
  {
   "attachments": {
    "image.png": {
     "image/png": "[encoded data removed]"
    }
   },
   "cell_type": "markdown",
   "metadata": {},
   "source": [
    "# Using HaxMap\n",
    "![image.png](attachment:image.png)"
   ]
  },
  {
   "cell_type": "code",
   "execution_count": 13,
   "metadata": {},
   "outputs": [
    {
     "data": {
      "text/plain": [
       "[2, 3, 7]"
      ]
     },
     "execution_count": 13,
     "metadata": {},
     "output_type": "execute_result"
    }
   ],
   "source": [
    "# Using HaxMap\n",
    "def subArraySum(a, k):\n",
    "    currSum=0\n",
    "    haxMap={}\n",
    "    \n",
    "    for i in range(len(a)):\n",
    "        currSum+=a[i]\n",
    "        \n",
    "        if currSum==k:\n",
    "            return a[:i+1]\n",
    "        \n",
    "        # If curr_sum - sum already exists in map , we have found a subarray with target sum\n",
    "        if currSum-k in haxMap:\n",
    "            return a[haxMap[currSum-k]+1:i+1]\n",
    "        \n",
    "        haxMap[currSum]=i\n",
    "    # If we reach here, then no subarray exists\n",
    "    print(\"No subarray with given sum exists\") \n",
    "    \n",
    "a=[-1,2,3,7,5]\n",
    "subArraySum(a,12)"
   ]
  },
  {
   "cell_type": "markdown",
   "metadata": {},
   "source": [
    "# 9. Move all the negative elements to one side of the array"
   ]
  },
  {
   "cell_type": "code",
   "execution_count": 13,
   "metadata": {},
   "outputs": [
    {
     "name": "stdout",
     "output_type": "stream",
     "text": [
      "[-1, -3, -7, 4, 5, 6, 2, 8, 9]\n"
     ]
    }
   ],
   "source": [
    "def rearrange(arr):\n",
    "    l = 0\n",
    "    for h in range(len(arr)):\n",
    "        if (arr[h] < 0):\n",
    "            arr[h],arr[l]=arr[l],arr[h]\n",
    "            l +=  1\n",
    "    print(arr)\n",
    "            \n",
    "            \n",
    "# Driver code\n",
    "arr = [-1, 2, -3, 4, 5, 6, -7, 8, 9]\n",
    "rearrange(arr)"
   ]
  },
  {
   "cell_type": "code",
   "execution_count": 14,
   "metadata": {},
   "outputs": [
    {
     "name": "stdout",
     "output_type": "stream",
     "text": [
      "[-1, -3, -7, 4, 5, 6, 2, 8, 9]\n"
     ]
    }
   ],
   "source": [
    "def rearrange(arr):\n",
    "    l = 0\n",
    "    h = 0\n",
    "    while h<len(arr):\n",
    "        if (arr[h] < 0):\n",
    "            arr[h],arr[l]=arr[l],arr[h]\n",
    "            l +=  1\n",
    "        h+=1\n",
    "    print(arr)\n",
    "            \n",
    "# Driver code\n",
    "arr = [-1, 2, -3, 4, 5, 6, -7, 8, 9]\n",
    "rearrange(arr)"
   ]
  },
  {
   "cell_type": "code",
   "execution_count": 55,
   "metadata": {},
   "outputs": [
    {
     "name": "stdout",
     "output_type": "stream",
     "text": [
      "[2, 4, 5, 6, 8, 9, -7, -3, -1]\n",
      "[2, 4, 5, 6, 8, 9, -7, -3, -1]\n"
     ]
    }
   ],
   "source": [
    "# All Negative at the end \n",
    "def rearrange(arr):\n",
    "    l = 0\n",
    "    h = 0\n",
    "    while h<len(arr):\n",
    "        if (arr[h] > 0):\n",
    "            arr[h],arr[l]=arr[l],arr[h]\n",
    "            l +=  1\n",
    "        h+=1\n",
    "    return arr\n",
    "         \n",
    "# Driver code\n",
    "arr = [-1, 2, -3, 4, 5, 6, -7, 8, 9]\n",
    "print(rearrange(arr))\n",
    "print(arr)"
   ]
  },
  {
   "cell_type": "code",
   "execution_count": 47,
   "metadata": {},
   "outputs": [
    {
     "name": "stdout",
     "output_type": "stream",
     "text": [
      "[2, 4, 5, 6, 8, 9, -1, -3, -7]\n",
      "[2, 4, 5, 6, 8, 9, -7, -3, -1]\n"
     ]
    }
   ],
   "source": [
    "# All Negative at the end in order\n",
    "def rearrange(arr):\n",
    "    j = 0\n",
    "    for i in range(len(arr)):\n",
    "        if arr[i]>=0:\n",
    "            arr[i],arr[j] = arr[j],arr[i]\n",
    "            j+=1\n",
    "    \n",
    "    arr=[i for i in arr if i>0]+[i for i in arr if i<0][::-1]    \n",
    "    return arr #arr is local variable\n",
    "\n",
    "# Driver code\n",
    "arr = [-1, 2, -3, 4, 5, 6, -7, 8, 9]\n",
    "print(rearrange(arr))\n",
    "print(arr) #this will print global arr"
   ]
  },
  {
   "cell_type": "code",
   "execution_count": 43,
   "metadata": {},
   "outputs": [
    {
     "name": "stdout",
     "output_type": "stream",
     "text": [
      "[2, 4, 5, 6, 8, 9, -1, -3, -7]\n",
      "[-1, 2, -3, 4, 5, 6, -7, 8, 9]\n"
     ]
    }
   ],
   "source": [
    "# All Negative at the end in order\n",
    "def segregateElements(arr, n):\n",
    "        pos=[]\n",
    "        neg=[]\n",
    "        for i in range(n):\n",
    "            if (arr[i] >= 0):\n",
    "                pos.append(arr[i])\n",
    "            else:\n",
    "                neg.append(arr[i])\n",
    "        arr=pos+neg\n",
    "        return arr\n",
    "#         for i in range(len(output)):\n",
    "#             arr[i]=output[i]\n",
    "\n",
    "arr = [-1, 2, -3, 4, 5, 6, -7, 8, 9]\n",
    "print(segregateElements(arr,len(arr)))\n",
    "print(arr)"
   ]
  },
  {
   "cell_type": "code",
   "execution_count": 46,
   "metadata": {},
   "outputs": [
    {
     "name": "stdout",
     "output_type": "stream",
     "text": [
      "[2, 4, 5, 6, 8, 9, -1, -3, -7]\n",
      "[2, 4, 5, 6, 8, 9, -1, -3, -7]\n"
     ]
    }
   ],
   "source": [
    "# All Negative at the end in order\n",
    "def segregateElements(arr, n):\n",
    "        pos=[]\n",
    "        neg=[]\n",
    "        for i in range(n):\n",
    "            if (arr[i] >= 0):\n",
    "                pos.append(arr[i])\n",
    "            else:\n",
    "                neg.append(arr[i])\n",
    "        output=pos+neg\n",
    "        for i in range(len(output)):\n",
    "            arr[i]=output[i]\n",
    "        return arr\n",
    "\n",
    "arr = [-1, 2, -3, 4, 5, 6, -7, 8, 9]\n",
    "print(segregateElements(arr,len(arr)))\n",
    "print(arr)"
   ]
  },
  {
   "cell_type": "code",
   "execution_count": 50,
   "metadata": {},
   "outputs": [
    {
     "name": "stdout",
     "output_type": "stream",
     "text": [
      "[2, 4, 5, 6, 8, 9, -1, -3, -7]\n"
     ]
    }
   ],
   "source": [
    "# All Negative at the end in order  ,final solution 1\n",
    "def segregateElements(arr, n):\n",
    "        pos=[]\n",
    "        neg=[]\n",
    "        for i in range(n):\n",
    "            if (arr[i] >= 0):\n",
    "                pos.append(arr[i])\n",
    "            else:\n",
    "                neg.append(arr[i])\n",
    "        output=pos+neg\n",
    "        for i in range(len(output)):\n",
    "            arr[i]=output[i]\n",
    "\n",
    "arr = [-1, 2, -3, 4, 5, 6, -7, 8, 9]\n",
    "segregateElements(arr,len(arr))\n",
    "print(arr)"
   ]
  },
  {
   "cell_type": "code",
   "execution_count": 53,
   "metadata": {},
   "outputs": [
    {
     "name": "stdout",
     "output_type": "stream",
     "text": [
      "[2, 4, 5, 6, 8, 9, -1, -3, -7]\n"
     ]
    }
   ],
   "source": [
    "# All Negative at the end in order  ,final solution 2\n",
    "def segregateElements(arr, n):\n",
    "        pos=[]\n",
    "        neg=[]\n",
    "        for i in range(n):\n",
    "            if (arr[i] >= 0):\n",
    "                pos.append(arr[i])\n",
    "            else:\n",
    "                neg.append(arr[i])\n",
    "        j=0\n",
    "        for i in pos+neg:\n",
    "            arr[j]=i\n",
    "            j+=1\n",
    "\n",
    "arr = [-1, 2, -3, 4, 5, 6, -7, 8, 9]\n",
    "segregateElements(arr,len(arr))\n",
    "print(arr)"
   ]
  },
  {
   "cell_type": "code",
   "execution_count": 52,
   "metadata": {},
   "outputs": [
    {
     "name": "stdout",
     "output_type": "stream",
     "text": [
      "[2, 4, 5, 6, 8, 9, -1, -3, -7]\n"
     ]
    }
   ],
   "source": [
    "# All Negative at the end in order  ,final solution 3\n",
    "def segregateElements(arr, n):\n",
    "        pos=[]\n",
    "        neg=[]\n",
    "        for i in range(n):\n",
    "            if (arr[i] >= 0):\n",
    "                pos.append(arr[i])\n",
    "            else:\n",
    "                neg.append(arr[i])\n",
    "                \n",
    "        p=len(pos)\n",
    "        for i in range(n):\n",
    "            if (i<p):\n",
    "                arr[i] = pos[i]\n",
    "            else:\n",
    "                c = i - p \n",
    "                arr[i] = neg[c]\n",
    "\n",
    "arr = [-1, 2, -3, 4, 5, 6, -7, 8, 9]\n",
    "segregateElements(arr,len(arr))\n",
    "print(arr)"
   ]
  },
  {
   "cell_type": "markdown",
   "metadata": {},
   "source": [
    "# 10. Union and Intersection of two sorted arrays"
   ]
  },
  {
   "cell_type": "code",
   "execution_count": 58,
   "metadata": {},
   "outputs": [
    {
     "data": {
      "text/plain": [
       "([2, 4, 5, 8, 9], {-7, -3, -1, 2, 4, 5, 6, 8, 9, 10, 15, 23})"
      ]
     },
     "execution_count": 58,
     "metadata": {},
     "output_type": "execute_result"
    }
   ],
   "source": [
    "def UnionIntersection(a,b):\n",
    "    return [i for i in a if i in b],set(a+b)\n",
    "\n",
    "#  Driver Code \n",
    "a = [-1, 2, -3, 4, 5, 6, -7, 8, 9]\n",
    "b = [15, 2, 4, 8, 9, 5, 10, 23]\n",
    "\n",
    "UnionIntersection(a,b)"
   ]
  },
  {
   "cell_type": "code",
   "execution_count": 60,
   "metadata": {},
   "outputs": [
    {
     "data": {
      "text/plain": [
       "({2, 4, 5, 8, 9}, {-7, -3, -1, 2, 4, 5, 6, 8, 9, 10, 15, 23})"
      ]
     },
     "execution_count": 60,
     "metadata": {},
     "output_type": "execute_result"
    }
   ],
   "source": [
    "def UnionIntersection(a,b):\n",
    "    a=set(a)\n",
    "    b=set(b)\n",
    "    return a & b,a | b\n",
    "\n",
    "#  Driver Code \n",
    "a = [-1, 2, -3, 4, 5, 6, -7, 8, 9]\n",
    "b = [15, 2, 4, 8, 9, 5, 10, 23]\n",
    "\n",
    "UnionIntersection(a,b)"
   ]
  },
  {
   "cell_type": "code",
   "execution_count": null,
   "metadata": {},
   "outputs": [],
   "source": [
    "def UnionIntersection(a,b):\n",
    "    u=a.set(a)\n",
    "    b=set(b)\n",
    "    return a & b,a | b\n",
    "\n",
    "#  Driver Code \n",
    "a = [-1, 2, -3, 4, 5, 6, -7, 8, 9]\n",
    "b = [15, 2, 4, 8, 9, 5, 10, 23]\n",
    "\n",
    "UnionIntersection(a,b)"
   ]
  },
  {
   "cell_type": "code",
   "execution_count": 61,
   "metadata": {},
   "outputs": [
    {
     "name": "stdout",
     "output_type": "stream",
     "text": [
      "Union : {0, 1, 2, 3, 4, 5, 6, 8}\n",
      "Intersection : {2, 4}\n",
      "Difference : {0, 8, 6}\n",
      "Symmetric difference : {0, 1, 3, 5, 6, 8}\n"
     ]
    }
   ],
   "source": [
    "# Program to perform different set operations\n",
    "# as we do in  mathematics\n",
    "  \n",
    "# sets are define\n",
    "A = {0, 2, 4, 6, 8};\n",
    "B = {1, 2, 3, 4, 5};\n",
    "  \n",
    "# union\n",
    "print(\"Union :\", A | B)\n",
    "  \n",
    "# intersection\n",
    "print(\"Intersection :\", A & B)\n",
    "  \n",
    "# difference\n",
    "print(\"Difference :\", A - B)\n",
    "  \n",
    "# symmetric difference\n",
    "print(\"Symmetric difference :\", A ^ B)"
   ]
  },
  {
   "cell_type": "markdown",
   "metadata": {},
   "source": [
    "<h1 style=\"color:blue;width:100%;text-align:center;font-weight:900;\">Level 2</h1>"
   ]
  },
  {
   "cell_type": "markdown",
   "metadata": {},
   "source": [
    "# 1. Cyclically rotate an array by one"
   ]
  },
  {
   "cell_type": "code",
   "execution_count": 5,
   "metadata": {},
   "outputs": [
    {
     "name": "stdout",
     "output_type": "stream",
     "text": [
      "[5, -1, 2, 3, 7]\n"
     ]
    }
   ],
   "source": [
    "def rotate( arr, n):\n",
    "    a[0],a[1:]=a[-1],a[:n-1]\n",
    "    \n",
    "#Driver Code    \n",
    "a=[-1,2,3,7,5]\n",
    "rotate(a,len(a))\n",
    "print(a)"
   ]
  },
  {
   "cell_type": "code",
   "execution_count": 14,
   "metadata": {},
   "outputs": [
    {
     "name": "stdout",
     "output_type": "stream",
     "text": [
      "[5, -1, 2, 3, 7]\n"
     ]
    }
   ],
   "source": [
    "def rotate( arr, n):\n",
    "#     arr[:] = arr[n-1:] + arr[:n-1]\n",
    "    arr[:] = arr[-1:] + arr[:-1]\n",
    "    \n",
    "#  Driver Code    \n",
    "a=[-1,2,3,7,5]\n",
    "rotate(a,len(a))\n",
    "print(a)"
   ]
  },
  {
   "cell_type": "code",
   "execution_count": 11,
   "metadata": {},
   "outputs": [
    {
     "name": "stdout",
     "output_type": "stream",
     "text": [
      "[5, -1, 2, 3, 7]\n"
     ]
    }
   ],
   "source": [
    "def rotate( arr, n):\n",
    "    j=arr.pop()\n",
    "    arr.insert(0,j)\n",
    "    \n",
    "#Driver Code    \n",
    "a=[-1,2,3,7,5]\n",
    "rotate(a,len(a))\n",
    "print(a)"
   ]
  },
  {
   "cell_type": "code",
   "execution_count": 7,
   "metadata": {},
   "outputs": [
    {
     "name": "stdout",
     "output_type": "stream",
     "text": [
      "[5, -1, 2, 3, 7]\n"
     ]
    }
   ],
   "source": [
    "def rotate(arr, n):\n",
    "    i = 0\n",
    "    j = n - 1\n",
    "    while i != j:\n",
    "        arr[i],arr[j] = arr[j], arr[i]\n",
    "        i = i + 1\n",
    "    pass\n",
    "\n",
    "#Driver Code    \n",
    "a=[-1,2,3,7,5]\n",
    "rotate(a,len(a))\n",
    "print(a)"
   ]
  },
  {
   "cell_type": "code",
   "execution_count": 8,
   "metadata": {},
   "outputs": [
    {
     "name": "stdout",
     "output_type": "stream",
     "text": [
      "[5, -1, 2, 3, 7]\n"
     ]
    }
   ],
   "source": [
    "# Method for rotation\n",
    "def rotate(arr, n):\n",
    "    x = arr[n - 1]\n",
    "     \n",
    "    for i in range(n - 1, 0, -1):\n",
    "        arr[i] = arr[i - 1];\n",
    "         \n",
    "    arr[0] = x;\n",
    "    \n",
    "#Driver Code    \n",
    "a=[-1,2,3,7,5]\n",
    "rotate(a,len(a))\n",
    "print(a)"
   ]
  },
  {
   "cell_type": "markdown",
   "metadata": {},
   "source": [
    "# 2. Find the missing integer"
   ]
  },
  {
   "cell_type": "code",
   "execution_count": 20,
   "metadata": {},
   "outputs": [
    {
     "data": {
      "text/plain": [
       "4"
      ]
     },
     "execution_count": 20,
     "metadata": {},
     "output_type": "execute_result"
    }
   ],
   "source": [
    "def MissingNumber(a,n):\n",
    "        # code here\n",
    "        return ((n*(n+1))//2)-sum(a)\n",
    "    \n",
    "#Driver Code     \n",
    "a=[1,2,3,5]\n",
    "MissingNumber(a,len(a)+1)"
   ]
  },
  {
   "cell_type": "code",
   "execution_count": 27,
   "metadata": {},
   "outputs": [
    {
     "data": {
      "text/plain": [
       "4"
      ]
     },
     "execution_count": 27,
     "metadata": {},
     "output_type": "execute_result"
    }
   ],
   "source": [
    "def MissingNumber(a,n):\n",
    "    a.sort()\n",
    "    for i in range(1,n):\n",
    "        if i!=a[i-1]:\n",
    "            return i\n",
    "    return n\n",
    "\n",
    "#Driver Code     \n",
    "a=[1,2,3,5]\n",
    "MissingNumber(a,len(a)+1)"
   ]
  },
  {
   "cell_type": "markdown",
   "metadata": {},
   "source": [
    "# 3. Count Pairs with given sum"
   ]
  },
  {
   "cell_type": "code",
   "execution_count": 74,
   "metadata": {},
   "outputs": [
    {
     "name": "stdout",
     "output_type": "stream",
     "text": [
      "6\n",
      "2\n",
      "3\n"
     ]
    }
   ],
   "source": [
    "\n",
    "def CountPairs(a,k,n):\n",
    "    # code here\n",
    "    m={}\n",
    "    c=0\n",
    "    for i in range(n):\n",
    "        if k-a[i] in m:\n",
    "            c+=m[k-a[i]]\n",
    "        if a[i] in m:\n",
    "            m[a[i]]+=1\n",
    "        else:\n",
    "            m[a[i]]=1\n",
    "    return c\n",
    "\n",
    "#  Driver Code \n",
    "a,s=[1, 1, 1, 1],2\n",
    "print(CountPairs(a,s,len(a)))\n",
    "\n",
    "a,s=[1, 5, 7, 1],6\n",
    "print(CountPairs(a,s,len(a)))\n",
    "\n",
    "a,s=[1, 5, 7, -1, 5],6\n",
    "print(CountPairs(a,s,len(a)))"
   ]
  },
  {
   "cell_type": "code",
   "execution_count": 73,
   "metadata": {},
   "outputs": [
    {
     "name": "stdout",
     "output_type": "stream",
     "text": [
      "6\n",
      "2\n",
      "3\n"
     ]
    }
   ],
   "source": [
    "def CountPairs(a,k,n):\n",
    "    c=0\n",
    "    m={}\n",
    "    for i in a:\n",
    "        if i in m:\n",
    "            m[i]+=1\n",
    "        else:\n",
    "            m[i]=1\n",
    "            \n",
    "    for i in a:\n",
    "        if k-i in m:\n",
    "            m[i]-=1\n",
    "            c+=m[k-i]\n",
    "    return c\n",
    "\n",
    "#  Driver Code \n",
    "a,s=[1, 1, 1, 1],2\n",
    "print(CountPairs(a,s,len(a)))\n",
    "\n",
    "a,s=[1, 5, 7, 1],6\n",
    "print(CountPairs(a,s,len(a)))\n",
    "\n",
    "a,s=[1, 5, 7, -1, 5],6\n",
    "print(CountPairs(a,s,len(a)))"
   ]
  },
  {
   "cell_type": "code",
   "execution_count": 72,
   "metadata": {},
   "outputs": [
    {
     "name": "stdout",
     "output_type": "stream",
     "text": [
      "6\n",
      "2\n",
      "3\n"
     ]
    }
   ],
   "source": [
    "from collections import Counter\n",
    "def CountPairs(a,k,n):\n",
    "    c=0\n",
    "    x=dict(Counter(a))\n",
    "    for i in a:\n",
    "        if k-i in x.keys():\n",
    "            x[i]-=1\n",
    "            c+=x[k-i]\n",
    "    return c\n",
    "\n",
    "#  Driver Code \n",
    "a,s=[1, 1, 1, 1],2\n",
    "print(CountPairs(a,s,len(a)))\n",
    "\n",
    "a,s=[1, 5, 7, 1],6\n",
    "print(CountPairs(a,s,len(a)))\n",
    "\n",
    "a,s=[1, 5, 7, -1, 5],6\n",
    "print(CountPairs(a,s,len(a)))"
   ]
  },
  {
   "cell_type": "code",
   "execution_count": 71,
   "metadata": {},
   "outputs": [
    {
     "name": "stdout",
     "output_type": "stream",
     "text": [
      "6\n",
      "2\n",
      "3\n"
     ]
    }
   ],
   "source": [
    "def CountPairs(a,k,n):\n",
    "    # code here\n",
    "    \n",
    "    m = [0] * 1000\n",
    " \n",
    "    # Store counts of all elements in map m\n",
    "    for i in range(0, n):\n",
    "        m[a[i]] += 1\n",
    " \n",
    "    twice_count = 0\n",
    " \n",
    "    for i in range(0, n):\n",
    "        twice_count+=m[k - a[i]]\n",
    "        if (k - a[i] == a[i]):\n",
    "            twice_count -= 1\n",
    "            \n",
    "    # return the half of twice_count\n",
    "    return twice_count//2\n",
    "\n",
    "#  Driver Code \n",
    "a,s=[1, 1, 1, 1],2\n",
    "print(CountPairs(a,s,len(a)))\n",
    "\n",
    "a,s=[1, 5, 7, 1],6\n",
    "print(CountPairs(a,s,len(a)))\n",
    "\n",
    "a,s=[1, 5, 7, -1, 5],6\n",
    "print(CountPairs(a,s,len(a)))"
   ]
  },
  {
   "cell_type": "code",
   "execution_count": 69,
   "metadata": {},
   "outputs": [
    {
     "name": "stdout",
     "output_type": "stream",
     "text": [
      "6\n",
      "2\n",
      "3\n"
     ]
    }
   ],
   "source": [
    "# Wrost Algo\n",
    "def CountPairs(a,s):\n",
    "    n=len(a)\n",
    "    sub=[s-i for i in a]\n",
    "    return sum([a[j+1:].count(sub[j]) for j in range(n-1)])\n",
    "\n",
    "\n",
    "#  Driver Code \n",
    "a,s=[1, 1, 1, 1],2\n",
    "print(CountPairs(a,s))\n",
    "\n",
    "a,s=[1, 5, 7, 1],6\n",
    "print(CountPairs(a,s))\n",
    "\n",
    "a,s=[1, 5, 7, -1, 5],6\n",
    "print(CountPairs(a,s))\n"
   ]
  },
  {
   "cell_type": "markdown",
   "metadata": {},
   "source": [
    "# 4. Find duplicates in an array"
   ]
  },
  {
   "cell_type": "code",
   "execution_count": 105,
   "metadata": {},
   "outputs": [
    {
     "name": "stdout",
     "output_type": "stream",
     "text": [
      "[1]\n",
      "[]\n",
      "[2, 3]\n",
      "[5, 3, 2]\n"
     ]
    }
   ],
   "source": [
    "# output arr is not sorted\n",
    "def findDuplicates(a):\n",
    "    m={}\n",
    "    for i in a:\n",
    "        if i in m:\n",
    "            m[i]+=1\n",
    "        else:\n",
    "            m[i]=1\n",
    "    return [i for i in m.keys() if m[i]>1]\n",
    "\n",
    "#  Driver Code \n",
    "a=[1, 1, 1, 1]\n",
    "print(findDuplicates(a))\n",
    "a=[0,3,1,2]\n",
    "print(findDuplicates(a))\n",
    "a=[2,3,1,2,3]\n",
    "print(findDuplicates(a))\n",
    "a=[5,3,1,2,3,5,5,2]\n",
    "print(findDuplicates(a))"
   ]
  },
  {
   "cell_type": "code",
   "execution_count": 106,
   "metadata": {},
   "outputs": [
    {
     "name": "stdout",
     "output_type": "stream",
     "text": [
      "[1]\n",
      "[]\n",
      "[2, 3]\n",
      "[2, 3, 5]\n"
     ]
    }
   ],
   "source": [
    "# output arr is sorted\n",
    "def findDuplicates(a,n):\n",
    "    for i in range(n):\n",
    "        x = a[i] % n\n",
    "        a[x] = a[x] + n\n",
    "            \n",
    "    result = []\n",
    "    for i in range(n):\n",
    "        if a[i] >= n*2:\n",
    "            result.append(i)\n",
    "    return result\n",
    "\n",
    "#  Driver Code \n",
    "a=[1, 1, 1, 1]\n",
    "print(findDuplicates(a,len(a)))\n",
    "a=[0,3,1,2]\n",
    "print(findDuplicates(a,len(a)))\n",
    "a=[2,3,1,2,3]\n",
    "print(findDuplicates(a,len(a)))\n",
    "a=[5,3,1,2,3,5,5,2]\n",
    "print(findDuplicates(a,len(a)))"
   ]
  },
  {
   "cell_type": "code",
   "execution_count": 23,
   "metadata": {},
   "outputs": [
    {
     "name": "stdout",
     "output_type": "stream",
     "text": [
      "[1]\n",
      "[]\n",
      "[2, 3]\n",
      "[2, 3, 5]\n"
     ]
    }
   ],
   "source": [
    "# output arr is sorted\n",
    "def findDuplicates(a,n):\n",
    "# code here\n",
    "    m=[0]*10\n",
    "    for i in a:\n",
    "        if m[i]:\n",
    "            m[i]+=1\n",
    "        else:\n",
    "            m[i]=1\n",
    "    return [i for i in range(n) if m[i]>1]\n",
    "\n",
    "\n",
    "#  Driver Code \n",
    "a=[1, 1, 1, 1]\n",
    "print(findDuplicates(a,len(a)))\n",
    "a=[0,3,1,2]\n",
    "print(findDuplicates(a,len(a)))\n",
    "a=[2,3,1,2,3]\n",
    "print(findDuplicates(a,len(a)))\n",
    "a=[5,3,1,2,3,5,5,2]\n",
    "print(findDuplicates(a,len(a)))"
   ]
  },
  {
   "cell_type": "markdown",
   "metadata": {},
   "source": [
    "# 5. Sort an Array using Quicksort algorithm"
   ]
  },
  {
   "cell_type": "code",
   "execution_count": 112,
   "metadata": {},
   "outputs": [
    {
     "name": "stdout",
     "output_type": "stream",
     "text": [
      "[1, 5, 7, 8, 9, 10]\n"
     ]
    }
   ],
   "source": [
    "\n",
    "def partition(a,l,h):\n",
    "    # pivot\n",
    "    pivot = a[h]\n",
    "    i = l - 1\n",
    "    for j in range(l,h):\n",
    "        if a[j] < pivot:\n",
    "            i+=1 \n",
    "            a[i],a[j]=a[j],a[i]\n",
    "            \n",
    "    a[i+1],a[h]=a[h],a[i+1]\n",
    "    return i + 1\n",
    "\n",
    "def quickSort(a,l,h):\n",
    "    if l < h:\n",
    "        pi = partition(a, l, h)\n",
    "        quickSort(a, l, pi - 1)\n",
    "        quickSort(a, pi + 1, h)\n",
    "        \n",
    "        \n",
    "#  Driver Code \n",
    "a =[10, 7, 8, 9, 1, 5 ]\n",
    "n=len(a)\n",
    "quickSort(a, 0, n - 1)\n",
    "print(a)"
   ]
  },
  {
   "cell_type": "code",
   "execution_count": 20,
   "metadata": {},
   "outputs": [
    {
     "name": "stdout",
     "output_type": "stream",
     "text": [
      "[1, 5, 7, 8, 9, 10]\n"
     ]
    }
   ],
   "source": [
    "def partition(a,l,h):\n",
    "    pivot = a[l]\n",
    "    i = l\n",
    "    j=h\n",
    "    while i<j:\n",
    "        while i<h and a[i]<=pivot : i+=1\n",
    "        while a[j]>pivot: j-=1\n",
    "        if i<j: a[i],a[j]=a[j],a[i]\n",
    "        \n",
    "    a[j],a[l]=a[l],a[j]\n",
    "    return j\n",
    "\n",
    "def quickSort(a,l,h):\n",
    "    if l < h:\n",
    "        pi = partition(a, l, h)\n",
    "        quickSort(a, l, pi - 1)\n",
    "        quickSort(a, pi + 1, h)\n",
    "        \n",
    "        \n",
    "#  Driver Code \n",
    "a =[10, 7, 8, 9, 1, 5 ]\n",
    "n=len(a)\n",
    "quickSort(a, 0, n - 1)\n",
    "print(a)"
   ]
  },
  {
   "cell_type": "code",
   "execution_count": 18,
   "metadata": {
    "scrolled": true
   },
   "outputs": [
    {
     "name": "stdout",
     "output_type": "stream",
     "text": [
      "[1, 5, 7, 8, 9, 10]\n"
     ]
    }
   ],
   "source": [
    "def partition(a,l,h):\n",
    "    pi=l\n",
    "    pivot = a[pi]\n",
    "    while l<h:\n",
    "        while l<len(a) and a[l]<=pivot: l+=1\n",
    "        while a[h]>pivot: h-=1\n",
    "        if l<h: a[l],a[h]=a[h],a[l]\n",
    "        \n",
    "    a[h],a[pi]=a[pi],a[h]\n",
    "    return h\n",
    "\n",
    "def quickSort(a,l,h):\n",
    "    if l < h:\n",
    "        p = partition(a, l, h)\n",
    "        quickSort(a, l, p - 1)\n",
    "        quickSort(a, p + 1, h)\n",
    "        \n",
    "        \n",
    "#  Driver Code \n",
    "a =[10, 7, 8, 9, 1, 5 ]\n",
    "n=len(a)\n",
    "quickSort(a, 0, n - 1)\n",
    "print(a)"
   ]
  },
  {
   "cell_type": "markdown",
   "metadata": {},
   "source": [
    "# 6. find common elements in three sorted arrays"
   ]
  },
  {
   "cell_type": "code",
   "execution_count": 20,
   "metadata": {},
   "outputs": [
    {
     "name": "stdout",
     "output_type": "stream",
     "text": [
      "[3]\n",
      "[20, 80]\n"
     ]
    }
   ],
   "source": [
    "# using set\n",
    "def commonElements (A, B, C):\n",
    "        common = list(set(A) & set(B) & set(C))\n",
    "        common.sort()\n",
    "        if common:\n",
    "            return common\n",
    "        return []\n",
    "    \n",
    "#  Driver Code \n",
    "A = [3,3,3]\n",
    "B = [3,3,3]\n",
    "C = [3,3,3]\n",
    "print(commonElements(A,B,C))\n",
    "A = [1, 5,20, 10, 40, 80]\n",
    "B = [6, 7, 20, 80, 100,]\n",
    "C = [3, 4, 15, 20, 30, 70, 80, 120]\n",
    "print(commonElements(A,B,C))"
   ]
  },
  {
   "cell_type": "code",
   "execution_count": 21,
   "metadata": {},
   "outputs": [
    {
     "name": "stdout",
     "output_type": "stream",
     "text": [
      "[3]\n",
      "[20, 80]\n"
     ]
    }
   ],
   "source": [
    "#Using Hash Map\n",
    "#space complexity 0(n1+n2+n3) && time complexity 0(n1+n2+n3)\n",
    "def commonElements (A, B, C):\n",
    "        # your code here\n",
    "        a={}\n",
    "        for i in A:\n",
    "            if i in a:\n",
    "                a[i]+=1\n",
    "            else:\n",
    "                a[i]=1\n",
    "        b={}\n",
    "        for i in B:\n",
    "            if i in b:\n",
    "                b[i]+=1\n",
    "            else:\n",
    "                b[i]=1\n",
    "        c={}\n",
    "        for i in C:\n",
    "            if i in c:\n",
    "                c[i]+=1\n",
    "            else:\n",
    "                c[i]=1\n",
    "        r=[]\n",
    "        for i in A:\n",
    "            if i in a and i in b and i in c and a[i]:\n",
    "                r.append(i)\n",
    "                a[i]=0\n",
    "        return r\n",
    "    \n",
    "    \n",
    "    \n",
    "#  Driver Code \n",
    "A = [3,3,3]\n",
    "B = [3,3,3]\n",
    "C = [3,3,3]\n",
    "print(commonElements(A,B,C))\n",
    "A = [1, 5,20, 10, 40, 80]\n",
    "B = [6, 7, 20, 80, 100,]\n",
    "C = [3, 4, 15, 20, 30, 70, 80, 120]\n",
    "print(commonElements(A,B,C))"
   ]
  },
  {
   "cell_type": "code",
   "execution_count": 14,
   "metadata": {},
   "outputs": [
    {
     "data": {
      "text/plain": [
       "[3]"
      ]
     },
     "execution_count": 14,
     "metadata": {},
     "output_type": "execute_result"
    }
   ],
   "source": [
    "# Most Efficient v2 with space complexity 0(1) && time complexity 0(n1+n2+n3)\n",
    "def commonElements (A, B, C):\n",
    "    common = []\n",
    "    i, j, k = 0, 0, 0\n",
    "    \n",
    "    while i < len(A) and j < len(B) and k < len(C):\n",
    "        if A[i] == B[j] and B[j] == C[k]:\n",
    "            if A[i] not in common:\n",
    "                common.append(A[i])\n",
    "            i += 1\n",
    "            j += 1\n",
    "            k += 1\n",
    "    \n",
    "        elif A[i] < B[j]:i += 1\n",
    "        elif B[j] < C[k]:j += 1\n",
    "        else:k += 1\n",
    "            \n",
    "    return common\n",
    "\n",
    "\n",
    "#  Driver Code \n",
    "A = [3,3,3]\n",
    "B = [3,3,3]\n",
    "C = [3,3,3]\n",
    "print(commonElements(A,B,C))\n",
    "A = [1, 5,20, 10, 40, 80]\n",
    "B = [6, 7, 20, 80, 100,]\n",
    "C = [3, 4, 15, 20, 30, 70, 80, 120]\n",
    "print(commonElements(A,B,C))"
   ]
  },
  {
   "cell_type": "code",
   "execution_count": 17,
   "metadata": {},
   "outputs": [
    {
     "data": {
      "text/plain": [
       "[3]"
      ]
     },
     "execution_count": 17,
     "metadata": {},
     "output_type": "execute_result"
    }
   ],
   "source": [
    "# Most Efficient v1 with space complexity 0(1) && time complexity 0(n1+n2+n3)\n",
    "def commonElements (A, B, C):\n",
    "    common=[]\n",
    "    x=y=z=0\n",
    "    \n",
    "    while x < len(A) and y < len(B) and z < len(C):\n",
    "        if A[x] == B[y] and B[y] == C[z]:\n",
    "            common.append(A[x])\n",
    "            x+=1\n",
    "            y+=1\n",
    "            z+=1\n",
    "            \n",
    "        elif A[x] < B[y]: x+=1\n",
    "        elif B[y] < C[z]: y+=1\n",
    "        else: z+=1\n",
    "            \n",
    "        while x!=0 and x<len(A) and A[x]==A[x-1]: x+=1\n",
    "        while y!=0 and y<len(B) and B[y]==B[y-1]: y+=1\n",
    "        while z!=0 and z<len(C) and C[z]==C[z-1]: z+=1\n",
    "    return common\n",
    "\n",
    "\n",
    "#  Driver Code \n",
    "A = [3,3,3]\n",
    "B = [3,3,3]\n",
    "C = [3,3,3]\n",
    "print(commonElements(A,B,C))\n",
    "A = [1, 5,20, 10, 40, 80]\n",
    "B = [6, 7, 20, 80, 100,]\n",
    "C = [3, 4, 15, 20, 30, 70, 80, 120]\n",
    "print(commonElements(A,B,C))"
   ]
  },
  {
   "cell_type": "code",
   "execution_count": 22,
   "metadata": {},
   "outputs": [
    {
     "name": "stdout",
     "output_type": "stream",
     "text": [
      "[3]\n",
      "[20, 80]\n"
     ]
    }
   ],
   "source": [
    "# TC is Too High\n",
    "def commonElements (A, B, C):\n",
    "        # your code here\n",
    "        l=[]\n",
    "        for i in A:\n",
    "            if i in B and i in C and i not in l:\n",
    "                l.append(i)\n",
    "        return l\n",
    "    \n",
    "    \n",
    "#  Driver Code \n",
    "A = [3,3,3]\n",
    "B = [3,3,3]\n",
    "C = [3,3,3]\n",
    "print(commonElements(A,B,C))\n",
    "A = [1, 5,20, 10, 40, 80]\n",
    "B = [6, 7, 20, 80, 100,]\n",
    "C = [3, 4, 15, 20, 30, 70, 80, 120]\n",
    "print(commonElements(A,B,C))"
   ]
  },
  {
   "cell_type": "markdown",
   "metadata": {},
   "source": [
    "# 7. First repeating elemen\n",
    "Find the first repeating element in an array of integers"
   ]
  },
  {
   "cell_type": "code",
   "execution_count": 30,
   "metadata": {},
   "outputs": [
    {
     "data": {
      "text/plain": [
       "0"
      ]
     },
     "execution_count": 30,
     "metadata": {},
     "output_type": "execute_result"
    }
   ],
   "source": [
    "#Function to return the position of the first repeating element.\n",
    "# Most Efficient Solotion \n",
    "def firstRepeated(a, n):\n",
    "    m={}\n",
    "    for i in a:\n",
    "        if i in m:\n",
    "            m[i]+=1\n",
    "        else:\n",
    "            m[i]=1\n",
    "                \n",
    "    for i in range(n):\n",
    "        if m[a[i]]>1:\n",
    "            return i\n",
    "    return -1\n",
    "\n",
    "#  Driver Code \n",
    "a=[2,3,1,2,3]\n",
    "firstRepeated(a,len(a))"
   ]
  },
  {
   "cell_type": "code",
   "execution_count": 51,
   "metadata": {},
   "outputs": [
    {
     "data": {
      "text/plain": [
       "0"
      ]
     },
     "execution_count": 51,
     "metadata": {},
     "output_type": "execute_result"
    }
   ],
   "source": [
    "from collections import Counter\n",
    "\n",
    "def firstRepeated(a, n):\n",
    "        count=Counter(a)\n",
    "        for i in range(n):\n",
    "            if count[a[i]]>1: return i\n",
    "            \n",
    "        return -1\n",
    "    \n",
    "#  Driver Code \n",
    "a=[2,3,1,2,3]\n",
    "firstRepeated(a,len(a))"
   ]
  },
  {
   "cell_type": "code",
   "execution_count": 71,
   "metadata": {},
   "outputs": [
    {
     "name": "stdout",
     "output_type": "stream",
     "text": [
      "0\n",
      "0\n"
     ]
    }
   ],
   "source": [
    "# Not Accepted for below Complexity\n",
    "# Expected Time Complexity: O(nlogn)\n",
    "# Expected Auxilliary Space: O(n)\n",
    "def firstRepeated(a, n):\n",
    "    for i in range(n):\n",
    "        if a.count(a[i])>1: return i\n",
    "    return -1\n",
    "\n",
    "#  Driver Code \n",
    "a=[2,3,1,2,3]\n",
    "print(firstRepeated(a,len(a)))\n",
    "a=[-1, 2, -1, 3, 2]\n",
    "print(firstRepeated(a,len(a)))"
   ]
  },
  {
   "cell_type": "markdown",
   "metadata": {},
   "source": [
    "# 8. First Non-Repeating Element\n",
    "Find the first non-repeating element in an array of integers"
   ]
  },
  {
   "cell_type": "code",
   "execution_count": 69,
   "metadata": {},
   "outputs": [
    {
     "name": "stdout",
     "output_type": "stream",
     "text": [
      "1\n",
      "3\n",
      "0\n"
     ]
    }
   ],
   "source": [
    "#1\n",
    "def firstNonRepeating(a, n):\n",
    "    # Complete the function\n",
    "    m={}\n",
    "    for i in a:\n",
    "        if i in m:\n",
    "            m[i]+=1\n",
    "        else:\n",
    "            m[i]=1\n",
    "    for i in a:\n",
    "        if m[i]==1:\n",
    "            return i\n",
    "    return 0\n",
    "#  Driver Code \n",
    "a=[2,3,1,2,3]\n",
    "print(firstNonRepeating(a,len(a)))\n",
    "a=[-1, 2, -1, 3, 2]\n",
    "print(firstNonRepeating(a,len(a)))\n",
    "a=[1, 1, 1]\n",
    "print(firstNonRepeating(a,len(a)))"
   ]
  },
  {
   "cell_type": "code",
   "execution_count": 70,
   "metadata": {},
   "outputs": [
    {
     "name": "stdout",
     "output_type": "stream",
     "text": [
      "1\n",
      "3\n",
      "0\n"
     ]
    }
   ],
   "source": [
    "#2\n",
    "def firstNonRepeating(a, n):\n",
    "    # Complete the function\n",
    "    for i in range(n):\n",
    "        if a.count(a[i])==1: return a[i]\n",
    "    return 0\n",
    "\n",
    "#  Driver Code \n",
    "a=[2,3,1,2,3]\n",
    "print(firstNonRepeating(a,len(a)))\n",
    "a=[-1, 2, -1, 3, 2]\n",
    "print(firstNonRepeating(a,len(a)))\n",
    "a=[1, 1, 1]\n",
    "print(firstNonRepeating(a,len(a)))"
   ]
  },
  {
   "cell_type": "markdown",
   "metadata": {},
   "source": [
    "# 9. Subarrays with equal 1s and 0s\n",
    "Given an array containing 0s and 1s. Find the number of subarrays having equal number of 0s and 1s."
   ]
  },
  {
   "attachments": {
    "image.png": {
     "image/png": "[encoded data removed]"
    }
   },
   "cell_type": "markdown",
   "metadata": {},
   "source": [
    "![image.png](attachment:image.png)"
   ]
  },
  {
   "cell_type": "code",
   "execution_count": 73,
   "metadata": {},
   "outputs": [
    {
     "name": "stdout",
     "output_type": "stream",
     "text": [
      "8\n",
      "1\n"
     ]
    }
   ],
   "source": [
    "# v1\n",
    "def countSubarrWithEqualZeroAndOne(a, n):\n",
    "    #Your code here\n",
    "    m={0:1}\n",
    "    currSum=0\n",
    "    c=0\n",
    "    for i in a:\n",
    "        if i==0: currSum+=-1\n",
    "        else: currSum+=1\n",
    "            \n",
    "        if currSum in m:\n",
    "            c+=m[currSum]\n",
    "            m[currSum]+=1\n",
    "        else:\n",
    "            m[currSum]=1\n",
    "    return c\n",
    "\n",
    "\n",
    "#  Driver Code \n",
    "a=[1,0,0,1,0,1,1]\n",
    "print(countSubarrWithEqualZeroAndOne(a,len(a)))\n",
    "a=[1,1,1,1,0]\n",
    "print(countSubarrWithEqualZeroAndOne(a,len(a)))"
   ]
  },
  {
   "cell_type": "code",
   "execution_count": 75,
   "metadata": {},
   "outputs": [
    {
     "name": "stdout",
     "output_type": "stream",
     "text": [
      "8\n",
      "1\n"
     ]
    }
   ],
   "source": [
    "# V2\n",
    "def countSubarrWithEqualZeroAndOne(a, n):\n",
    "    #Your code here\n",
    "    m={0:1}\n",
    "    currSum=0\n",
    "    c=0\n",
    "    for i in a:\n",
    "        currSum+=-1 if i==0 else 1\n",
    "        c+=m.get(currSum,0)\n",
    "        m[currSum]=m.get(currSum,0)+1\n",
    "        \n",
    "    return c\n",
    "\n",
    "\n",
    "#  Driver Code \n",
    "a=[1,0,0,1,0,1,1]\n",
    "print(countSubarrWithEqualZeroAndOne(a,len(a)))\n",
    "a=[1,1,1,1,0]\n",
    "print(countSubarrWithEqualZeroAndOne(a,len(a)))"
   ]
  },
  {
   "cell_type": "code",
   "execution_count": 77,
   "metadata": {},
   "outputs": [
    {
     "name": "stdout",
     "output_type": "stream",
     "text": [
      "8\n",
      "1\n"
     ]
    }
   ],
   "source": [
    "# v1\n",
    "def countSubarrWithEqualZeroAndOne(a, n):\n",
    "    #Your code here\n",
    "    m={0:1}\n",
    "    currSum=0\n",
    "    c=0\n",
    "    for i in range(n):\n",
    "        if a[i]==0:a[i]=-1\n",
    "    for i in a:\n",
    "        currSum+=i\n",
    "        if currSum in m:\n",
    "            c+=m[currSum]\n",
    "            m[currSum]+=1\n",
    "        else:\n",
    "            m[currSum]=1\n",
    "    return c\n",
    "\n",
    "\n",
    "#  Driver Code \n",
    "a=[1,0,0,1,0,1,1]\n",
    "print(countSubarrWithEqualZeroAndOne(a,len(a)))\n",
    "a=[1,1,1,1,0]\n",
    "print(countSubarrWithEqualZeroAndOne(a,len(a)))"
   ]
  },
  {
   "cell_type": "code",
   "execution_count": 78,
   "metadata": {},
   "outputs": [
    {
     "name": "stdout",
     "output_type": "stream",
     "text": [
      "8\n",
      "1\n"
     ]
    }
   ],
   "source": [
    "# v2\n",
    "def countSubarrWithEqualZeroAndOne(a, n):\n",
    "    #Your code here\n",
    "    m={0:1}\n",
    "    currSum=0\n",
    "    c=0\n",
    "    for i in range(n):\n",
    "        if a[i]==0:a[i]=-1\n",
    "            \n",
    "    for i in a:\n",
    "        currSum+=i\n",
    "        c+=m.get(currSum,0)\n",
    "        m[currSum]=m.get(currSum,0)+1\n",
    "        \n",
    "    return c\n",
    "\n",
    "\n",
    "#  Driver Code \n",
    "a=[1,0,0,1,0,1,1]\n",
    "print(countSubarrWithEqualZeroAndOne(a,len(a)))\n",
    "a=[1,1,1,1,0]\n",
    "print(countSubarrWithEqualZeroAndOne(a,len(a)))"
   ]
  },
  {
   "cell_type": "markdown",
   "metadata": {},
   "source": [
    "# 10. Rearrange the array in alternating positive and negative items"
   ]
  },
  {
   "cell_type": "code",
   "execution_count": 80,
   "metadata": {},
   "outputs": [
    {
     "name": "stdout",
     "output_type": "stream",
     "text": [
      "[0, -5, 1, -8, 2, -2, 4, 5, 7, 8]\n"
     ]
    }
   ],
   "source": [
    "# Time Complexity: O(N*logN)\n",
    "# Space Complexity: O(1)\n",
    "# order not matters in it\n",
    "def rearrange(a, n):\n",
    "    a.sort()\n",
    "    \n",
    "    i,j=0,0\n",
    "    while j<n and a[j]<0: j+=1\n",
    "    while a[i]<0 and j<n:\n",
    "        a[i],a[j]=a[j],a[i]\n",
    "        i+=2\n",
    "        j+=1\n",
    "#  Driver Code     \n",
    "a = [-5, -2, 5, 2, 4, 7, 1, 8, 0, -8]\n",
    "rearrange(a, len(a))\n",
    "print(a)"
   ]
  },
  {
   "cell_type": "code",
   "execution_count": 91,
   "metadata": {},
   "outputs": [
    {
     "name": "stdout",
     "output_type": "stream",
     "text": [
      "[2, -2, 4, -5, 7, -8, 1, 8, 0, 5]\n"
     ]
    }
   ],
   "source": [
    "# Time Complexity: O(n) where n is number of elements in given array. \n",
    "# Auxiliary Space: O(1)\n",
    "# order not matters in it\n",
    "def rearrange(a, n):\n",
    "    i=-1\n",
    "    for j in range(n):\n",
    "        if a[j]<0:\n",
    "            i+=1\n",
    "            a[i],a[j]=a[j],a[i]\n",
    "    \n",
    "    pos=i+1\n",
    "    neg=0\n",
    "    while pos<n and neg<pos and a[neg]<0:\n",
    "        a[pos],a[neg]=a[neg],a[pos]\n",
    "        pos+=1\n",
    "        neg+=2\n",
    "        \n",
    "#  Driver Code     \n",
    "a = [-5, -2, 5, 2, 4, 7, 1, 8, 0, -8]\n",
    "rearrange(a, len(a))\n",
    "print(a)"
   ]
  },
  {
   "cell_type": "code",
   "execution_count": 1,
   "metadata": {},
   "outputs": [
    {
     "name": "stdout",
     "output_type": "stream",
     "text": [
      "[5, -5, 2, -2, 4, -8, 7, 1, 8, 0]\n"
     ]
    }
   ],
   "source": [
    "# Time Complexity: O(N*logN)\n",
    "# Space Complexity: O(N)\n",
    "# order matters in it\n",
    "def rearrange(arr, n):\n",
    "        pos=[]\n",
    "        for i in arr:\n",
    "            if i>=0:\n",
    "                pos.append(i)\n",
    "        neg=[]\n",
    "        for i in arr:\n",
    "            if i<0:\n",
    "                neg.append(i)\n",
    "        i=0\n",
    "        j=0\n",
    "        k=0\n",
    "        while i<len(pos) and j<len(neg):\n",
    "            if k%2==0:\n",
    "                arr[k]=pos[i]\n",
    "                i+=1\n",
    "            else:\n",
    "                arr[k]=neg[j]\n",
    "                j+=1\n",
    "            k+=1\n",
    "        while i<len(pos):\n",
    "            arr[k]=pos[i]\n",
    "            i+=1\n",
    "            k+=1\n",
    "        while j<len(neg):\n",
    "            arr[k]=neg[j]\n",
    "            j+=1\n",
    "            k+=1\n",
    "            \n",
    "#  Driver Code     \n",
    "a = [-5, -2, 5, 2, 4, 7, 1, 8, 0, -8]\n",
    "rearrange(a, len(a))\n",
    "print(a)"
   ]
  },
  {
   "cell_type": "code",
   "execution_count": null,
   "metadata": {},
   "outputs": [],
   "source": []
  }
 ],
 "metadata": {
  "kernelspec": {
   "display_name": "Python 3",
   "language": "python",
   "name": "python3"
  },
  "language_info": {
   "codemirror_mode": {
    "name": "ipython",
    "version": 3
   },
   "file_extension": ".py",
   "mimetype": "text/x-python",
   "name": "python",
   "nbconvert_exporter": "python",
   "pygments_lexer": "ipython3",
   "version": "3.8.3"
  }
 },
 "nbformat": 4,
 "nbformat_minor": 4
}
